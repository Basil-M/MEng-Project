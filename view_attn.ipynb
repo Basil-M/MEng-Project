{
 "cells": [
  {
   "cell_type": "code",
   "execution_count": 1,
   "metadata": {},
   "outputs": [
    {
     "name": "stderr",
     "output_type": "stream",
     "text": [
      "Using TensorFlow backend.\n"
     ]
    },
    {
     "name": "stdout",
     "output_type": "stream",
     "text": [
      "Using variational autoencoder\n"
     ]
    }
   ],
   "source": [
    "# from analyse_model import main as test\n",
    "# test()\n",
    "from tensor2tensor.visualization import attention\n",
    "import h5py\n",
    "import numpy as np\n",
    "from sample_latent import visualize_latent_rep\n",
    "from molecules.model import TriTransformer\n",
    "from utils import AttnParams, load_properties, load_dataset, rdkit_funcs_mol\n",
    "from keras.optimizers import Adam\n",
    "\n",
    "\n",
    "model_dir = 'models/avg-mh8-kqv_medium_d60_VAE/'\n",
    "\n",
    "# Load in model\n",
    "model_params = AttnParams()\n",
    "model_params.load(model_dir + \"params.pkl\")\n",
    "\n",
    "# Prepare model\n",
    "# Load the data\n",
    "d_file = 'data/zinc_250k.h5'\n",
    "d_type = 'cat' # should be onehot if conv or VAE\n",
    "data_train, data_test, props_train, props_test, tokens = load_dataset(d_file, d_type, False)\n",
    "props_train, props_test, prop_labels = load_properties(d_file)\n",
    "\n",
    "model = TriTransformer(tokens, model_params)\n",
    "model.build_models()\n",
    "model.compile_vae(Adam(0.001, 0.9, 0.98, epsilon=1e-9))\n",
    "model.autoencoder.load_weights(model_dir + \"best_model.h5\")"
   ]
  },
  {
   "cell_type": "code",
   "execution_count": 2,
   "metadata": {
    "scrolled": false
   },
   "outputs": [],
   "source": [
    "smiles_str = 'CC(=O)Oc1ccccc1C(=O)O'#'CC(C)CC1=CC=C(C=C1)C(C)C(=O)O'\n",
    "output_len = 10\n",
    "\n",
    "smiles_seq = tokens.tokenize(smiles_str)\n",
    "smiles_seq = [smiles_seq[0][:-1]]\n",
    "output_seq = [smiles_seq[0][:output_len]]\n",
    "attentions = model.output_attns.predict_on_batch([smiles_seq, output_seq])\n"
   ]
  },
  {
   "cell_type": "code",
   "execution_count": 3,
   "metadata": {},
   "outputs": [
    {
     "name": "stdout",
     "output_type": "stream",
     "text": [
      "Shapes of arrays:\n",
      "\tenc_atts:\t(3, 1, 8, 23, 23)\n",
      "\tdec_atts:\t(3, 1, 8, 9, 9)\n",
      "\tencdec_atts:\t(3, 1, 8, 9, 1)\n",
      "Expected shapes of arrays:\n",
      "\tenc_atts:\t[3, 1, 8, 23, 23]\n",
      "\tdec_atts:\t[3, 1, 8, 1, 9]\n",
      "\tencdec_atts:\t[3, 1, 8, 1, 23]\n"
     ]
    }
   ],
   "source": [
    "l = int(len(attentions) / 3)\n",
    "h = model_params[\"heads\"]\n",
    "l_in = len(smiles_seq[0])\n",
    "l_out = len(output_seq[0]) - 1\n",
    "\n",
    "reshape_attn = lambda ATT : np.swapaxes(np.expand_dims(np.array(ATT),1), 3, 4)\n",
    "reshape_attn = lambda ATT : np.expand_dims(np.array(ATT),1)\n",
    "enc_atts = reshape_attn(attentions[0:l])\n",
    "dec_atts = reshape_attn(attentions[l:2*l])\n",
    "# dec_atts = np.expand_dims(dec_atts[:,:,:,1,:],3)\n",
    "\n",
    "encdec_atts = reshape_attn(attentions[2 * l:])\n",
    "# encdec_atts = np.expand_dims(encdec_atts[:,:,:,1,:],3)\n",
    "\n",
    "# \tenc_atts:\t  (l, 1, h, in, in)\n",
    "# \tdec_atts:     (l, 1, h, 1, out)\n",
    "# \tencdec_atts:  (l, 1, h, 1, in)\n",
    "print(\"Shapes of arrays:\\n\\tenc_atts:\\t{}\\n\\tdec_atts:\\t{}\\n\\tencdec_atts:\\t{}\".format(np.shape(enc_atts), np.shape(dec_atts), np.shape(encdec_atts)))\n",
    "\n",
    "print(\"Expected shapes of arrays:\\n\\tenc_atts:\\t{}\\n\\tdec_atts:\\t{}\\n\\tencdec_atts:\\t{}\".format([l, 1, h, l_in, l_in], [l, 1, h, 1, l_out], [l, 1, h, 1, l_in]))"
   ]
  },
  {
   "cell_type": "code",
   "execution_count": 4,
   "metadata": {},
   "outputs": [],
   "source": [
    "def call_html():\n",
    "    import IPython\n",
    "    display(IPython.core.display.HTML('''\n",
    "        <script src=\"/static/components/requirejs/require.js\"></script>\n",
    "        <script>\n",
    "          requirejs.config({\n",
    "            paths: {\n",
    "              base: '/static/base',\n",
    "              \"d3\": \"https://cdnjs.cloudflare.com/ajax/libs/d3/3.5.8/d3.min\",\n",
    "              jquery: '//ajax.googleapis.com/ajax/libs/jquery/2.0.0/jquery.min',\n",
    "            },\n",
    "          });\n",
    "        </script>\n",
    "        '''))\n"
   ]
  },
  {
   "cell_type": "code",
   "execution_count": 5,
   "metadata": {},
   "outputs": [
    {
     "data": {
      "text/html": [
       "\n",
       "        <script src=\"/static/components/requirejs/require.js\"></script>\n",
       "        <script>\n",
       "          requirejs.config({\n",
       "            paths: {\n",
       "              base: '/static/base',\n",
       "              \"d3\": \"https://cdnjs.cloudflare.com/ajax/libs/d3/3.5.8/d3.min\",\n",
       "              jquery: '//ajax.googleapis.com/ajax/libs/jquery/2.0.0/jquery.min',\n",
       "            },\n",
       "          });\n",
       "        </script>\n",
       "        "
      ],
      "text/plain": [
       "<IPython.core.display.HTML object>"
      ]
     },
     "metadata": {},
     "output_type": "display_data"
    },
    {
     "ename": "ValueError",
     "evalue": "all the input array dimensions except for the concatenation axis must match exactly",
     "output_type": "error",
     "traceback": [
      "\u001b[1;31m---------------------------------------------------------------------------\u001b[0m",
      "\u001b[1;31mValueError\u001b[0m                                Traceback (most recent call last)",
      "\u001b[1;32m<ipython-input-5-9aa8742cdfa8>\u001b[0m in \u001b[0;36m<module>\u001b[1;34m\u001b[0m\n\u001b[0;32m      5\u001b[0m \u001b[1;31m#in_str = [tokens.token(tokens.startid())] + out_str\u001b[0m\u001b[1;33m\u001b[0m\u001b[1;33m\u001b[0m\u001b[0m\n\u001b[0;32m      6\u001b[0m \u001b[0mcall_html\u001b[0m\u001b[1;33m(\u001b[0m\u001b[1;33m)\u001b[0m\u001b[1;33m\u001b[0m\u001b[0m\n\u001b[1;32m----> 7\u001b[1;33m \u001b[0mattention\u001b[0m\u001b[1;33m.\u001b[0m\u001b[0mshow\u001b[0m\u001b[1;33m(\u001b[0m\u001b[0min_str\u001b[0m\u001b[1;33m,\u001b[0m \u001b[0mout_str\u001b[0m\u001b[1;33m,\u001b[0m \u001b[0menc_atts\u001b[0m\u001b[1;33m,\u001b[0m \u001b[0mdec_atts\u001b[0m\u001b[1;33m,\u001b[0m \u001b[0mencdec_atts\u001b[0m\u001b[1;33m)\u001b[0m\u001b[1;33m\u001b[0m\u001b[0m\n\u001b[0m",
      "\u001b[1;32mc:\\users\\basil\\anaconda3\\envs\\attn_mol\\lib\\site-packages\\tensor2tensor\\visualization\\attention.py\u001b[0m in \u001b[0;36mshow\u001b[1;34m(inp_text, out_text, enc_atts, dec_atts, encdec_atts)\u001b[0m\n\u001b[0;32m     48\u001b[0m                                   resize(dec_atts), resize(encdec_atts))\n\u001b[0;32m     49\u001b[0m   attention = _get_attention(\n\u001b[1;32m---> 50\u001b[1;33m       inp_text, out_text, enc_att, dec_att, encdec_att)\n\u001b[0m\u001b[0;32m     51\u001b[0m   \u001b[0matt_json\u001b[0m \u001b[1;33m=\u001b[0m \u001b[0mjson\u001b[0m\u001b[1;33m.\u001b[0m\u001b[0mdumps\u001b[0m\u001b[1;33m(\u001b[0m\u001b[0mattention\u001b[0m\u001b[1;33m)\u001b[0m\u001b[1;33m\u001b[0m\u001b[0m\n\u001b[0;32m     52\u001b[0m   \u001b[0m_show_attention\u001b[0m\u001b[1;33m(\u001b[0m\u001b[0matt_json\u001b[0m\u001b[1;33m)\u001b[0m\u001b[1;33m\u001b[0m\u001b[0m\n",
      "\u001b[1;32mc:\\users\\basil\\anaconda3\\envs\\attn_mol\\lib\\site-packages\\tensor2tensor\\visualization\\attention.py\u001b[0m in \u001b[0;36m_get_attention\u001b[1;34m(inp_text, out_text, enc_atts, dec_atts, encdec_atts)\u001b[0m\n\u001b[0;32m    143\u001b[0m   attentions = {\n\u001b[0;32m    144\u001b[0m       'all': {\n\u001b[1;32m--> 145\u001b[1;33m           \u001b[1;34m'att'\u001b[0m\u001b[1;33m:\u001b[0m \u001b[0mget_attentions\u001b[0m\u001b[1;33m(\u001b[0m\u001b[0mget_full_attention\u001b[0m\u001b[1;33m)\u001b[0m\u001b[1;33m,\u001b[0m\u001b[1;33m\u001b[0m\u001b[0m\n\u001b[0m\u001b[0;32m    146\u001b[0m           \u001b[1;34m'top_text'\u001b[0m\u001b[1;33m:\u001b[0m \u001b[0minp_text\u001b[0m \u001b[1;33m+\u001b[0m \u001b[0mout_text\u001b[0m\u001b[1;33m,\u001b[0m\u001b[1;33m\u001b[0m\u001b[0m\n\u001b[0;32m    147\u001b[0m           \u001b[1;34m'bot_text'\u001b[0m\u001b[1;33m:\u001b[0m \u001b[0minp_text\u001b[0m \u001b[1;33m+\u001b[0m \u001b[0mout_text\u001b[0m\u001b[1;33m,\u001b[0m\u001b[1;33m\u001b[0m\u001b[0m\n",
      "\u001b[1;32mc:\\users\\basil\\anaconda3\\envs\\attn_mol\\lib\\site-packages\\tensor2tensor\\visualization\\attention.py\u001b[0m in \u001b[0;36mget_attentions\u001b[1;34m(get_attention_fn)\u001b[0m\n\u001b[0;32m    137\u001b[0m     \u001b[0mattentions\u001b[0m \u001b[1;33m=\u001b[0m \u001b[1;33m[\u001b[0m\u001b[1;33m]\u001b[0m\u001b[1;33m\u001b[0m\u001b[0m\n\u001b[0;32m    138\u001b[0m     \u001b[1;32mfor\u001b[0m \u001b[0mi\u001b[0m \u001b[1;32min\u001b[0m \u001b[0mrange\u001b[0m\u001b[1;33m(\u001b[0m\u001b[0mnum_layers\u001b[0m\u001b[1;33m)\u001b[0m\u001b[1;33m:\u001b[0m\u001b[1;33m\u001b[0m\u001b[0m\n\u001b[1;32m--> 139\u001b[1;33m       \u001b[0mattentions\u001b[0m\u001b[1;33m.\u001b[0m\u001b[0mappend\u001b[0m\u001b[1;33m(\u001b[0m\u001b[0mget_attention_fn\u001b[0m\u001b[1;33m(\u001b[0m\u001b[0mi\u001b[0m\u001b[1;33m)\u001b[0m\u001b[1;33m)\u001b[0m\u001b[1;33m\u001b[0m\u001b[0m\n\u001b[0m\u001b[0;32m    140\u001b[0m \u001b[1;33m\u001b[0m\u001b[0m\n\u001b[0;32m    141\u001b[0m     \u001b[1;32mreturn\u001b[0m \u001b[0mattentions\u001b[0m\u001b[1;33m\u001b[0m\u001b[0m\n",
      "\u001b[1;32mc:\\users\\basil\\anaconda3\\envs\\attn_mol\\lib\\site-packages\\tensor2tensor\\visualization\\attention.py\u001b[0m in \u001b[0;36mget_full_attention\u001b[1;34m(layer)\u001b[0m\n\u001b[0;32m    115\u001b[0m     \u001b[0mdec_length\u001b[0m \u001b[1;33m=\u001b[0m \u001b[0mdec_att\u001b[0m\u001b[1;33m.\u001b[0m\u001b[0mshape\u001b[0m\u001b[1;33m[\u001b[0m\u001b[1;36m1\u001b[0m\u001b[1;33m]\u001b[0m\u001b[1;33m\u001b[0m\u001b[0m\n\u001b[0;32m    116\u001b[0m     \u001b[0mnum_heads\u001b[0m \u001b[1;33m=\u001b[0m \u001b[0menc_att\u001b[0m\u001b[1;33m.\u001b[0m\u001b[0mshape\u001b[0m\u001b[1;33m[\u001b[0m\u001b[1;36m0\u001b[0m\u001b[1;33m]\u001b[0m\u001b[1;33m\u001b[0m\u001b[0m\n\u001b[1;32m--> 117\u001b[1;33m     \u001b[0mfirst\u001b[0m \u001b[1;33m=\u001b[0m \u001b[0mnp\u001b[0m\u001b[1;33m.\u001b[0m\u001b[0mconcatenate\u001b[0m\u001b[1;33m(\u001b[0m\u001b[1;33m[\u001b[0m\u001b[0menc_att\u001b[0m\u001b[1;33m,\u001b[0m \u001b[0mencdec_att\u001b[0m\u001b[1;33m]\u001b[0m\u001b[1;33m,\u001b[0m \u001b[0maxis\u001b[0m\u001b[1;33m=\u001b[0m\u001b[1;36m2\u001b[0m\u001b[1;33m)\u001b[0m\u001b[1;33m\u001b[0m\u001b[0m\n\u001b[0m\u001b[0;32m    118\u001b[0m     second = np.concatenate(\n\u001b[0;32m    119\u001b[0m         [np.zeros((num_heads, dec_length, enc_length)), dec_att], axis=2)\n",
      "\u001b[1;31mValueError\u001b[0m: all the input array dimensions except for the concatenation axis must match exactly"
     ]
    }
   ],
   "source": [
    "in_str = [tokens.token(a) for a in smiles_seq[0]]\n",
    "out_str = in_str[1:]\n",
    "\n",
    "#out_str = list(smiles_str) + [tokens.token(tokens.endid())]\n",
    "#in_str = [tokens.token(tokens.startid())] + out_str\n",
    "call_html()\n",
    "attention.show(in_str, out_str, enc_atts, dec_atts, encdec_atts)"
   ]
  }
 ],
 "metadata": {
  "kernelspec": {
   "display_name": "Python 3",
   "language": "python",
   "name": "python3"
  },
  "language_info": {
   "codemirror_mode": {
    "name": "ipython",
    "version": 3
   },
   "file_extension": ".py",
   "mimetype": "text/x-python",
   "name": "python",
   "nbconvert_exporter": "python",
   "pygments_lexer": "ipython3",
   "version": "3.6.6"
  }
 },
 "nbformat": 4,
 "nbformat_minor": 2
}
